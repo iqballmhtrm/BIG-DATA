{
 "cells": [
  {
   "cell_type": "code",
   "execution_count": 1,
   "id": "987428b7-e6d9-4674-9a86-ab05e66eb0a7",
   "metadata": {},
   "outputs": [],
   "source": [
    "from pyspark.sql import SparkSession\n",
    "from pyspark.sql.functions import col, sum\n",
    "\n",
    "spark = SparkSession.builder.appName(\"ETLPipeline\").getOrCreate()\n",
    "\n",
    "# Extract\n",
    "df = spark.read.csv(\"sales_data.csv\", header=True, inferSchema=True)\n",
    "\n",
    "# Transform\n",
    "df_filtered = df.filter(col(\"Revenue\") > 100)\n",
    "df_result = df_filtered.groupBy(\"Product_Category\").agg(sum(\"Revenue\").alias(\"total_sales\"))\n",
    "\n",
    "# Load\n",
    "df_result.write.mode(\"overwrite\").parquet(\"output_sales.parquet\")\n",
    "\n",
    "spark.stop()\n"
   ]
  },
  {
   "cell_type": "code",
   "execution_count": 5,
   "id": "2ffe0829-93f3-4e2e-b55d-393a8da16bdb",
   "metadata": {},
   "outputs": [
    {
     "name": "stdout",
     "output_type": "stream",
     "text": [
      "+-----+-------------+\n",
      "|month|total_revenue|\n",
      "+-----+-------------+\n",
      "|   12|     10158080|\n",
      "|    1|      7832338|\n",
      "|    6|     10085537|\n",
      "|    3|      8201790|\n",
      "|    5|      9859851|\n",
      "|    9|      6517880|\n",
      "|    4|      8485163|\n",
      "|    8|      6348349|\n",
      "|    7|      6392045|\n",
      "|   10|      6709394|\n",
      "|   11|      6977157|\n",
      "|    2|      7608734|\n",
      "+-----+-------------+\n",
      "\n",
      "+--------------------+------------+\n",
      "|             product|totaL_orders|\n",
      "+--------------------+------------+\n",
      "|Water Bottle - 30...|       10794|\n",
      "| Patch Kit/8 Patches|       10416|\n",
      "|  Mountain Tire Tube|        6816|\n",
      "|        AWC Logo Cap|        4358|\n",
      "|Sport-100 Helmet,...|        4220|\n",
      "+--------------------+------------+\n",
      "\n"
     ]
    }
   ],
   "source": [
    "from pyspark.sql import SparkSession\n",
    "from pyspark.sql.functions import month, sum, count\n",
    "\n",
    "# Inisialisasi SparkSession\n",
    "spark = SparkSession.builder.appName(\"ETLPipeline\").getOrCreate()\n",
    "\n",
    "# Membaca file CSV\n",
    "df = spark.read.csv(\"sales_data.csv\", header=True, inferSchema=True)\n",
    "\n",
    "# Menghitung total pendapatan per bulan\n",
    "df_revenue = df.withColumn(\"month\", month(\"Date\")) \\\n",
    "    .groupBy(\"month\") \\\n",
    "    .agg(sum(df[\"Unit_Price\"] * df[\"Order_Quantity\"]).alias(\"total_revenue\"))\n",
    "\n",
    "# Menampilkan hasil\n",
    "df_revenue.show()\n",
    " # Menampilkan produk terlaris \n",
    "df_top_products = df.groupBy(\"product\")\\\n",
    "                    .agg(count(\"*\").alias(\"totaL_orders\"))\\\n",
    "                    .orderBy(\"total_orders\", ascending=False)\\\n",
    "                    .limit(5)\n",
    "df_top_products.show()\n"
   ]
  },
  {
   "cell_type": "code",
   "execution_count": 6,
   "id": "0398697f-908e-41c4-ae93-3bf976b523c8",
   "metadata": {},
   "outputs": [],
   "source": [
    "#simpan hasil \n",
    "df_revenue.write.parquet(\"revenue_by_month.parquet\")\n",
    "df_top_products.write.parquet(\"top_products.write.parquet\")\n"
   ]
  },
  {
   "cell_type": "code",
   "execution_count": null,
   "id": "1be05586-b8f3-4d62-b434-30d0339c8391",
   "metadata": {},
   "outputs": [],
   "source": []
  }
 ],
 "metadata": {
  "kernelspec": {
   "display_name": "Python 3 (ipykernel)",
   "language": "python",
   "name": "python3"
  },
  "language_info": {
   "codemirror_mode": {
    "name": "ipython",
    "version": 3
   },
   "file_extension": ".py",
   "mimetype": "text/x-python",
   "name": "python",
   "nbconvert_exporter": "python",
   "pygments_lexer": "ipython3",
   "version": "3.11.6"
  }
 },
 "nbformat": 4,
 "nbformat_minor": 5
}
