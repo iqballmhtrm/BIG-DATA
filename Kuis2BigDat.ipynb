{
 "cells": [
  {
   "cell_type": "code",
   "execution_count": 5,
   "id": "46e46300-c6cf-4231-ab2e-df31ebbc87ae",
   "metadata": {},
   "outputs": [],
   "source": [
    "from pyspark.sql import SparkSession\n",
    "from graphframes import GraphFrame\n",
    "\n",
    "# 1. Membuat SparkSession dengan GraphFrames package sudah terpasang\n",
    "spark = SparkSession.builder \\\n",
    "    .appName(\"AmazonCoPurchasePageRank\") \\\n",
    "    .config(\"spark.jars.packages\", \"graphframes:graphframes:0.8.1-spark3.0-s_2.12\") \\\n",
    "    .getOrCreate()\n",
    "\n"
   ]
  },
  {
   "cell_type": "code",
   "execution_count": 11,
   "id": "d4ee191a-f6c4-4ec9-b03b-fbdeaa1976f0",
   "metadata": {},
   "outputs": [
    {
     "data": {
      "text/plain": [
       "['334863 334863 925872',\n",
       " '53526 1',\n",
       " '71632 1',\n",
       " '98006 1',\n",
       " '148224 1',\n",
       " '209320 1',\n",
       " '268299 1',\n",
       " '270060 1',\n",
       " '302148 1',\n",
       " '16283 2']"
      ]
     },
     "execution_count": 11,
     "metadata": {},
     "output_type": "execute_result"
    }
   ],
   "source": [
    "# 1 Baca file mtx sebagai RDD baris per baris\n",
    "rdd_raw = spark.sparkContext.textFile(\"com-Amazon.mtx\")\n",
    "\n",
    "# Buang baris komentar (biasanya diawali '%')\n",
    "rdd_data = rdd_raw.filter(lambda line: not line.startswith('%'))\n",
    "\n",
    "# Tampilkan beberapa baris pertama\n",
    "rdd_data.take(10)\n"
   ]
  },
  {
   "cell_type": "code",
   "execution_count": 12,
   "id": "bc3a6b6d-fe02-4757-80c3-9c133903e08e",
   "metadata": {},
   "outputs": [
    {
     "name": "stdout",
     "output_type": "stream",
     "text": [
      "+------+------+\n",
      "|   src|   dst|\n",
      "+------+------+\n",
      "|334863|334863|\n",
      "| 53526|     1|\n",
      "| 71632|     1|\n",
      "| 98006|     1|\n",
      "|148224|     1|\n",
      "|209320|     1|\n",
      "|268299|     1|\n",
      "|270060|     1|\n",
      "|302148|     1|\n",
      "| 16283|     2|\n",
      "+------+------+\n",
      "only showing top 10 rows\n",
      "\n"
     ]
    }
   ],
   "source": [
    "# 2 Pisahkan baris jadi kolom\n",
    "edges_rdd = rdd_data.map(lambda line: line.strip().split())\n",
    "\n",
    "# Ambil src dan dst saja (abaikan kolom ke-3 kalau ada)\n",
    "edges_rdd = edges_rdd.map(lambda cols: (int(cols[0]), int(cols[1])))\n",
    "\n",
    "# Buat DataFrame edges\n",
    "edges_df = edges_rdd.toDF([\"src\", \"dst\"])\n",
    "edges_df.show(10)\n"
   ]
  },
  {
   "cell_type": "code",
   "execution_count": 13,
   "id": "66dcd4a8-e279-44f0-a1f1-b195a7755466",
   "metadata": {},
   "outputs": [
    {
     "name": "stdout",
     "output_type": "stream",
     "text": [
      "+------+\n",
      "|    id|\n",
      "+------+\n",
      "| 53526|\n",
      "| 71632|\n",
      "| 98006|\n",
      "|148224|\n",
      "|209320|\n",
      "|270060|\n",
      "|302148|\n",
      "|     2|\n",
      "|181370|\n",
      "|200002|\n",
      "+------+\n",
      "only showing top 10 rows\n",
      "\n"
     ]
    }
   ],
   "source": [
    "# 3 Ambil semua id unik dari src dan dst\n",
    "vertices_rdd = edges_rdd.flatMap(lambda x: [x[0], x[1]]).distinct()\n",
    "\n",
    "# Konversi jadi DataFrame vertices\n",
    "vertices_df = vertices_rdd.map(lambda x: (x,)).toDF([\"id\"])\n",
    "vertices_df.show(10)\n"
   ]
  },
  {
   "cell_type": "code",
   "execution_count": 10,
   "id": "5157b14f-3689-4b24-bd93-a4406ad86d08",
   "metadata": {},
   "outputs": [
    {
     "name": "stdout",
     "output_type": "stream",
     "text": [
      "+-----+------------------+\n",
      "|   id|          pagerank|\n",
      "+-----+------------------+\n",
      "|27287| 60.52333936844408|\n",
      "|12994| 48.50092854672143|\n",
      "| 6410| 46.19725016853048|\n",
      "| 3958|42.230366050738134|\n",
      "| 1991|41.796636413874964|\n",
      "|  832| 41.66108216095725|\n",
      "|33532|41.206145538503925|\n",
      "| 4493| 40.56672444690634|\n",
      "|11097|40.157690738311125|\n",
      "|23200|39.742303647024144|\n",
      "+-----+------------------+\n",
      "only showing top 10 rows\n",
      "\n"
     ]
    }
   ],
   "source": [
    "# 4 dan 5 buat graph dan lakukan pagerank\n",
    "from graphframes import GraphFrame\n",
    "\n",
    "# Buat Graph\n",
    "graph = GraphFrame(vertices_df, edges_df)\n",
    "\n",
    "# Jalankan PageRank\n",
    "result = graph.pageRank(resetProbability=0.15, maxIter=10)\n",
    "\n",
    "# Tampilkan hasil PageRank\n",
    "result.vertices.select(\"id\", \"pagerank\").orderBy(\"pagerank\", ascending=False).show(10)\n"
   ]
  },
  {
   "cell_type": "code",
   "execution_count": null,
   "id": "f3efa184-1fae-4d15-8984-3417f56bc98a",
   "metadata": {},
   "outputs": [],
   "source": [
    "Penjelasan tiap langkah:\n",
    "1. Membuat SparkSession\n",
    "Membuat SparkSession baru dengan konfigurasi yang sudah memuat library GraphFrames.\n",
    "graphframes:graphframes:0.8.1-spark3.0-s_2.12 adalah versi GraphFrames yang kompatibel.\n",
    "\n",
    "2. Membaca Data\n",
    "Kamu harus punya dataset edge (pasangan produk yang co-purchased).\n",
    "Biasanya berupa file CSV yang tiap baris berisi dua kolom: src dan dst (produk sumber dan produk tujuan).\n",
    "Kalau pakai .mtx, biasanya perlu konversi dulu ke format CSV.\n",
    "\n",
    "3. Membuat Vertices\n",
    "Vertices adalah produk unik yang muncul di sisi src dan dst.\n",
    "Ambil kolom src dan dst, gabungkan, lalu buat unik (distinct).\n",
    "\n",
    "4. Membuat GraphFrame\n",
    "GraphFrame dibuat dari vertices dan edges DataFrame.\n",
    "\n",
    "5. Menjalankan PageRank\n",
    "Panggil method .pageRank() pada GraphFrame, atur damping factor (resetProbability) dan jumlah iterasi (maxIter).\n",
    "\n",
    "6. Ambil dan urutkan hasil\n",
    "Ambil dataframe vertices yang sudah diberi kolom pagerank oleh GraphFrame, lalu urutkan berdasarkan PageRank menurun."
   ]
  },
  {
   "cell_type": "code",
   "execution_count": 14,
   "id": "7aaef732-4305-4f61-bbd8-14c6de240b8c",
   "metadata": {},
   "outputs": [],
   "source": [
    "# menggabungkan pagerank dan community\n",
    "# A. Load komunitas\n",
    "communities_all_df = spark.read.text(\"com-Amazon_Communities_all.mtx\")\n",
    "\n",
    "# Parse isi: pastikan formatnya sesuai (misalnya dua kolom node dan komunitas)\n",
    "communities_all_rdd = communities_all_df.rdd \\\n",
    "    .filter(lambda row: not row.value.startswith('%')) \\\n",
    "    .map(lambda row: row.value.split()) \\\n",
    "    .map(lambda parts: (int(parts[0]), int(parts[1])))\n",
    "\n",
    "communities_df = communities_all_rdd.toDF([\"id\", \"community_id\"])\n"
   ]
  },
  {
   "cell_type": "code",
   "execution_count": 16,
   "id": "f4a0a5ad-1408-4ae1-b5af-e8028b9c5c36",
   "metadata": {},
   "outputs": [
    {
     "name": "stdout",
     "output_type": "stream",
     "text": [
      "+-----+-----------------+------------+\n",
      "|   id|         pagerank|community_id|\n",
      "+-----+-----------------+------------+\n",
      "|27287|60.52333936845344|       38085|\n",
      "|27287|60.52333936845344|        3875|\n",
      "|27287|60.52333936845344|       13168|\n",
      "|27287|60.52333936845344|        3876|\n",
      "|27287|60.52333936845344|       70859|\n",
      "|27287|60.52333936845344|        3877|\n",
      "|27287|60.52333936845344|       25155|\n",
      "|27287|60.52333936845344|       38086|\n",
      "|27287|60.52333936845344|       67734|\n",
      "|27287|60.52333936845344|       67735|\n",
      "+-----+-----------------+------------+\n",
      "only showing top 10 rows\n",
      "\n"
     ]
    }
   ],
   "source": [
    "# Merge dengan community_all\n",
    "# Ambil hasil PageRank dalam bentuk DataFrame\n",
    "pagerank_df = results.vertices  \n",
    "\n",
    "# Gabungkan dengan komunitas\n",
    "pagerank_with_community = pagerank_df.join(communities_df, on=\"id\")\n",
    "\n",
    "# Tampilkan hasil akhir\n",
    "pagerank_with_community.orderBy(\"pagerank\", ascending=False).show(10)\n",
    "\n"
   ]
  },
  {
   "cell_type": "code",
   "execution_count": null,
   "id": "18580c47-ea04-419e-9fe5-7031889028ee",
   "metadata": {},
   "outputs": [],
   "source": [
    "Produk 27287 adalah:\n",
    "\n",
    "Produk paling sentral atau penting dalam jaringan (dilihat dari PageRank tertinggi),\n",
    "\n",
    "Dan dia menjembatani atau hadir di banyak komunitas pembelian, artinya:\n",
    "\n",
    "Produk ini sangat umum,\n",
    "\n",
    "Bisa juga bersifat \"penghubung\" antar berbagai kelompok produk.\n",
    "\n"
   ]
  },
  {
   "cell_type": "code",
   "execution_count": 17,
   "id": "07e192ff-0eab-4370-a104-d286f14fc63d",
   "metadata": {},
   "outputs": [],
   "source": [
    "# menggabungkan pagerank dan community\n",
    "# A. Load komunitas\n",
    "communities_all_df = spark.read.text(\"com-Amazon_Communities_top5000.mtx\")\n",
    "\n",
    "# Parse isi: pastikan formatnya sesuai (misalnya dua kolom node dan komunitas)\n",
    "communities_all_rdd = communities_all_df.rdd \\\n",
    "    .filter(lambda row: not row.value.startswith('%')) \\\n",
    "    .map(lambda row: row.value.split()) \\\n",
    "    .map(lambda parts: (int(parts[0]), int(parts[1])))\n",
    "\n",
    "communities_df = communities_all_rdd.toDF([\"id\", \"community_id\"])\n"
   ]
  },
  {
   "cell_type": "code",
   "execution_count": 34,
   "id": "2e6acee2-8d8e-4264-8f86-7116847a3390",
   "metadata": {},
   "outputs": [
    {
     "name": "stdout",
     "output_type": "stream",
     "text": [
      "+-----+------------------+------------+\n",
      "|   id|          pagerank|community_id|\n",
      "+-----+------------------+------------+\n",
      "| 7290|13.922389811656725|        3981|\n",
      "| 7290|13.922389811656725|        3145|\n",
      "| 7290|13.922389811656725|        1629|\n",
      "| 7290|13.922389811656725|         687|\n",
      "| 7290|13.922389811656725|         681|\n",
      "| 6412|11.677526191440467|        1613|\n",
      "| 6412|11.677526191440467|         593|\n",
      "| 6412|11.677526191440467|         578|\n",
      "|20129|11.542265499052812|        3985|\n",
      "|20129|11.542265499052812|        3334|\n",
      "|20129|11.542265499052812|        3148|\n",
      "|20129|11.542265499052812|        1630|\n",
      "|20129|11.542265499052812|         694|\n",
      "|20129|11.542265499052812|         693|\n",
      "|18153|11.494478183537911|        3982|\n",
      "|18153|11.494478183537911|        3744|\n",
      "|18153|11.494478183537911|        3144|\n",
      "|18153|11.494478183537911|        1157|\n",
      "|18153|11.494478183537911|         650|\n",
      "|18153|11.494478183537911|         649|\n",
      "|15429|10.689605718626723|        3985|\n",
      "|15429|10.689605718626723|        3334|\n",
      "|15429|10.689605718626723|        3148|\n",
      "|15429|10.689605718626723|        1630|\n",
      "|15429|10.689605718626723|         694|\n",
      "|15429|10.689605718626723|         693|\n",
      "|23536|10.683436467311044|         324|\n",
      "| 1673|10.658138146864598|        1613|\n",
      "| 1673|10.658138146864598|         593|\n",
      "| 1673|10.658138146864598|         578|\n",
      "|13302|10.368036669150543|         529|\n",
      "|13302|10.368036669150543|         522|\n",
      "|  945|10.021361684242565|        3289|\n",
      "|  945|10.021361684242565|        2127|\n",
      "|  945|10.021361684242565|        2115|\n",
      "|  945|10.021361684242565|        2028|\n",
      "|  945|10.021361684242565|        2024|\n",
      "|  945|10.021361684242565|        1118|\n",
      "|  269| 9.792927220621092|        3981|\n",
      "|  269| 9.792927220621092|        3147|\n",
      "|  269| 9.792927220621092|         776|\n",
      "|  269| 9.792927220621092|         577|\n",
      "|  269| 9.792927220621092|         576|\n",
      "| 8581| 9.531885110748465|         529|\n",
      "| 8581| 9.531885110748465|         522|\n",
      "| 3289| 9.488245687455246|        2378|\n",
      "| 3289| 9.488245687455246|        4264|\n",
      "| 3289| 9.488245687455246|        3626|\n",
      "| 3289| 9.488245687455246|        3234|\n",
      "| 3289| 9.488245687455246|        1475|\n",
      "| 3289| 9.488245687455246|         789|\n",
      "|22242|  9.36319767765798|        3981|\n",
      "|22242|  9.36319767765798|        3145|\n",
      "|22242|  9.36319767765798|        1629|\n",
      "|22242|  9.36319767765798|         687|\n",
      "|22242|  9.36319767765798|         681|\n",
      "| 9149| 8.878596218031475|        3932|\n",
      "| 9149| 8.878596218031475|        2274|\n",
      "| 9149| 8.878596218031475|        1729|\n",
      "| 9149| 8.878596218031475|        1560|\n",
      "| 9149| 8.878596218031475|        1550|\n",
      "| 9149| 8.878596218031475|        1467|\n",
      "| 9149| 8.878596218031475|        1321|\n",
      "| 9149| 8.878596218031475|        1148|\n",
      "| 9149| 8.878596218031475|        1140|\n",
      "| 9149| 8.878596218031475|        1120|\n",
      "| 9149| 8.878596218031475|         746|\n",
      "| 9149| 8.878596218031475|         679|\n",
      "| 9149| 8.878596218031475|         665|\n",
      "| 9149| 8.878596218031475|         662|\n",
      "| 9149| 8.878596218031475|         659|\n",
      "| 9149| 8.878596218031475|         656|\n",
      "| 9149| 8.878596218031475|         648|\n",
      "| 9149| 8.878596218031475|         624|\n",
      "| 9149| 8.878596218031475|         621|\n",
      "| 9149| 8.878596218031475|         620|\n",
      "| 9149| 8.878596218031475|         613|\n",
      "| 9149| 8.878596218031475|         608|\n",
      "| 9149| 8.878596218031475|         598|\n",
      "| 9149| 8.878596218031475|         590|\n",
      "| 9149| 8.878596218031475|         584|\n",
      "| 9149| 8.878596218031475|         553|\n",
      "| 9149| 8.878596218031475|         538|\n",
      "| 9149| 8.878596218031475|         528|\n",
      "|14703| 8.798354965186912|        4804|\n",
      "|14703| 8.798354965186912|        4265|\n",
      "|14703| 8.798354965186912|        3631|\n",
      "|14703| 8.798354965186912|        3589|\n",
      "|14703| 8.798354965186912|        2919|\n",
      "|14703| 8.798354965186912|        2334|\n",
      "|14703| 8.798354965186912|         731|\n",
      "|14703| 8.798354965186912|         530|\n",
      "| 5094| 8.790980712099337|        3804|\n",
      "| 5094| 8.790980712099337|        3798|\n",
      "| 5094| 8.790980712099337|        3788|\n",
      "| 5094| 8.790980712099337|        1403|\n",
      "| 2628| 8.612013149966542|        1658|\n",
      "| 2628| 8.612013149966542|         439|\n",
      "|23088| 8.412375323048234|        4738|\n",
      "|23088| 8.412375323048234|        3871|\n",
      "+-----+------------------+------------+\n",
      "only showing top 100 rows\n",
      "\n"
     ]
    }
   ],
   "source": [
    "# Merge dengan community_all\n",
    "# Ambil hasil PageRank dalam bentuk DataFrame\n",
    "pagerank_df = results.vertices  \n",
    "\n",
    "# Gabungkan dengan komunitas\n",
    "pagerank_with_community = pagerank_df.join(communities_df, on=\"id\")\n",
    "\n",
    "# Tampilkan hasil akhir\n",
    "pagerank_with_community.orderBy(\"pagerank\", ascending=False).show(100)\n",
    "\n"
   ]
  },
  {
   "cell_type": "code",
   "execution_count": 28,
   "id": "bb5eea97-c426-4632-ba44-d38b00b68cf5",
   "metadata": {},
   "outputs": [],
   "source": [
    "# Load data\n",
    "nodeid_df = spark.read.text(\"com-Amazon_nodeid.mtx\")\n",
    "\n",
    "# Parse isi\n",
    "nodeid_rdd = nodeid_df.rdd \\\n",
    "    .filter(lambda row: not row.value.startswith('%')) \\\n",
    "    .map(lambda row: row.value.split()) \\\n",
    "    .filter(lambda parts: len(parts) >= 2) \\\n",
    "    .map(lambda parts: (int(parts[0]), parts[1]))\n",
    "\n",
    "nodeid_df_clean = nodeid_rdd.toDF([\"id\", \"product_code\"])\n"
   ]
  },
  {
   "cell_type": "code",
   "execution_count": 29,
   "id": "9bc49ab7-f994-47ce-8d25-bdbdc549615a",
   "metadata": {},
   "outputs": [],
   "source": [
    "results = graph.pageRank(resetProbability=0.15, maxIter=10)\n",
    "pagerank_df = results.vertices.select(\"id\", \"pagerank\")\n"
   ]
  },
  {
   "cell_type": "code",
   "execution_count": 30,
   "id": "91abaf28-a53f-49e0-b3ba-980997fce98b",
   "metadata": {},
   "outputs": [
    {
     "name": "stdout",
     "output_type": "stream",
     "text": [
      "+------+------------------+------------+\n",
      "|    id|          pagerank|product_code|\n",
      "+------+------------------+------------+\n",
      "|334863|0.6112374546035292|           1|\n",
      "+------+------------------+------------+\n",
      "\n"
     ]
    }
   ],
   "source": [
    "# Show final \n",
    "final_results = pagerank_df.join(nodeid_df_clean, on=\"id\")\n",
    "final_results.orderBy(\"pagerank\", ascending=False).show(10)\n"
   ]
  },
  {
   "cell_type": "code",
   "execution_count": 31,
   "id": "34f587f8-73b1-458f-8839-bd2f63147bef",
   "metadata": {},
   "outputs": [
    {
     "name": "stdout",
     "output_type": "stream",
     "text": [
      "+--------------------------------------------------------------------------------+\n",
      "|value                                                                           |\n",
      "+--------------------------------------------------------------------------------+\n",
      "|%%MatrixMarket matrix array real general                                        |\n",
      "|%-------------------------------------------------------------------------------|\n",
      "|% SuiteSparse Matrix Collection, Tim Davis                                      |\n",
      "|% https://sparse.tamu.edu/SNAP/com-Amazon                                       |\n",
      "|% name: SNAP/com-Amazon : nodeid matrix                                         |\n",
      "|%-------------------------------------------------------------------------------|\n",
      "|334863 1                                                                        |\n",
      "|1                                                                               |\n",
      "|2                                                                               |\n",
      "|4                                                                               |\n",
      "+--------------------------------------------------------------------------------+\n",
      "only showing top 10 rows\n",
      "\n"
     ]
    }
   ],
   "source": [
    "nodeid_df.show(10, truncate=False)\n"
   ]
  },
  {
   "cell_type": "code",
   "execution_count": 33,
   "id": "281c6231-f972-4e04-891e-4619917484eb",
   "metadata": {},
   "outputs": [
    {
     "name": "stdout",
     "output_type": "stream",
     "text": [
      "Jumlah ID unik di PageRank: 334863\n",
      "Jumlah ID unik di NodeID: 1\n",
      "Jumlah ID yang cocok: 1\n"
     ]
    }
   ],
   "source": [
    "print(\"Jumlah ID unik di PageRank:\", pagerank_df.select(\"id\").distinct().count())\n",
    "print(\"Jumlah ID unik di NodeID:\", nodeid_df_clean.select(\"id\").distinct().count())\n",
    "\n",
    "# Cek ID yang cocok:\n",
    "matched_ids = pagerank_df.join(nodeid_df_clean, on=\"id\")\n",
    "print(\"Jumlah ID yang cocok:\", matched_ids.count())\n"
   ]
  },
  {
   "cell_type": "code",
   "execution_count": 36,
   "id": "8061d594-9819-4ae5-86f8-5c3ee03a974d",
   "metadata": {},
   "outputs": [],
   "source": [
    "combined_df = pagerank_df \\\n",
    "    .join(communities_df, on=\"id\") \\\n",
    "    .join(nodeid_df_clean, on=\"id\", how=\"left\")  # pakai left join jika tidak semua ada di nodeid\n"
   ]
  },
  {
   "cell_type": "code",
   "execution_count": 37,
   "id": "8a140a3d-1b3f-4538-9ee9-ae484b931a03",
   "metadata": {},
   "outputs": [
    {
     "name": "stdout",
     "output_type": "stream",
     "text": [
      "+---+--------+------------+------------+\n",
      "| id|pagerank|community_id|product_code|\n",
      "+---+--------+------------+------------+\n",
      "+---+--------+------------+------------+\n",
      "\n"
     ]
    }
   ],
   "source": [
    "combined_df.filter(combined_df.id == 334864).show()\n"
   ]
  },
  {
   "cell_type": "code",
   "execution_count": 38,
   "id": "85017335-0fc5-47f8-9a00-7135d1483f4d",
   "metadata": {},
   "outputs": [
    {
     "name": "stdout",
     "output_type": "stream",
     "text": [
      "+---+--------+\n",
      "| id|pagerank|\n",
      "+---+--------+\n",
      "+---+--------+\n",
      "\n"
     ]
    }
   ],
   "source": [
    "pagerank_df.filter(pagerank_df.id == 334864).show()\n"
   ]
  },
  {
   "cell_type": "code",
   "execution_count": 42,
   "id": "315ff30f-2938-442b-a9ad-708fd90be9d5",
   "metadata": {},
   "outputs": [
    {
     "name": "stdout",
     "output_type": "stream",
     "text": [
      "+---+------------+\n",
      "| id|community_id|\n",
      "+---+------------+\n",
      "+---+------------+\n",
      "\n"
     ]
    }
   ],
   "source": [
    "communities_df.filter(communities_df.id == 334864).show()\n"
   ]
  },
  {
   "cell_type": "code",
   "execution_count": 43,
   "id": "d9f661bd-1a8f-44e6-a93d-5852bdcec96b",
   "metadata": {},
   "outputs": [],
   "source": [
    "combined_df = nodeid_df_clean \\\n",
    "    .join(pagerank_df, on=\"id\", how=\"left\") \\\n",
    "    .join(communities_df, on=\"id\", how=\"left\")\n"
   ]
  },
  {
   "cell_type": "code",
   "execution_count": 44,
   "id": "faec54d5-93df-477b-9d57-3737f6632c4a",
   "metadata": {},
   "outputs": [
    {
     "name": "stdout",
     "output_type": "stream",
     "text": [
      "+---+------------+--------+------------+\n",
      "| id|product_code|pagerank|community_id|\n",
      "+---+------------+--------+------------+\n",
      "+---+------------+--------+------------+\n",
      "\n"
     ]
    }
   ],
   "source": [
    "combined_df.filter(combined_df.id == 334864).show()\n"
   ]
  },
  {
   "cell_type": "code",
   "execution_count": null,
   "id": "8b052587-049c-4b34-b9b3-547297c8ac6e",
   "metadata": {},
   "outputs": [],
   "source": []
  }
 ],
 "metadata": {
  "kernelspec": {
   "display_name": "Python 3 (ipykernel)",
   "language": "python",
   "name": "python3"
  },
  "language_info": {
   "codemirror_mode": {
    "name": "ipython",
    "version": 3
   },
   "file_extension": ".py",
   "mimetype": "text/x-python",
   "name": "python",
   "nbconvert_exporter": "python",
   "pygments_lexer": "ipython3",
   "version": "3.11.6"
  }
 },
 "nbformat": 4,
 "nbformat_minor": 5
}
